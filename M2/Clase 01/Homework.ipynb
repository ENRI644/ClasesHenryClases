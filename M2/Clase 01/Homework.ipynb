{
 "cells": [
  {
   "cell_type": "markdown",
   "metadata": {},
   "source": [
    "1. Considere el siguiente areglo que contiene la altura de un grupo de estudiantes de Henry y cálcule:\n",
    "\n",
    "```python\n",
    "muestra = np.array( [[1.85, 1.8, 1.8 , 1.8],\n",
    "                    [1.73,  1.7, 1.75, 1.76],\n",
    "                    [ 1.65, 1.69,  1.67 ,  1.6],\n",
    "                    [1.54,  1.57, 1.58, 1.59],\n",
    "                    [ 1.4 , 1.42,  1.45, 1.48]]) \n",
    "```\n",
    "- Media.\n",
    "- Mediana.\n",
    "- Moda\n",
    "- Varianza\n",
    "- Desvío estándar.\n",
    "\n"
   ]
  },
  {
   "cell_type": "code",
   "execution_count": 1,
   "metadata": {},
   "outputs": [],
   "source": [
    "import numpy as np"
   ]
  },
  {
   "cell_type": "code",
   "execution_count": 43,
   "metadata": {},
   "outputs": [],
   "source": [
    "def calcular_Media(arreglo)->float:\n",
    "    cont = 0\n",
    "    retorno = 0\n",
    "    for i in range(0,len(arreglo)):\n",
    "        for j in range(0,len(arreglo[i])):\n",
    "            #print(f\"esto es J: {j}\")\n",
    "            retorno += arreglo[i,j]\n",
    "            #print(f\"El retorno dentro del FOR es: {retorno}\")\n",
    "            cont += 1\n",
    "    return (retorno/cont)\n"
   ]
  },
  {
   "cell_type": "code",
   "execution_count": 60,
   "metadata": {},
   "outputs": [],
   "source": [
    "def encontrar_Mediana(arreglo)->float:\n",
    "    retornos = 0\n",
    "    posicionI = (len(arreglo))//2\n",
    "    posicionJ = (len(arreglo[posicionI])+1)//2\n",
    "    retornos=arreglo[posicionI,posicionJ]\n",
    "    return retornos"
   ]
  },
  {
   "cell_type": "code",
   "execution_count": 61,
   "metadata": {},
   "outputs": [
    {
     "name": "stdout",
     "output_type": "stream",
     "text": [
      "1.8\n"
     ]
    }
   ],
   "source": [
    "muestra = np.array([[1.85, 1.8, 1.8 , 1.8],\n",
    "                    [1.73,  1.7, 1.75, 1.76],\n",
    "                    [ 1.65, 1.69,  1.67 ,  1.6],\n",
    "                    [1.54,  1.57, 1.58, 1.59],\n",
    "                    [ 1.4 , 1.42,  1.45, 1.48]])\n",
    "print((muestra[0,2]))"
   ]
  },
  {
   "cell_type": "code",
   "execution_count": 63,
   "metadata": {},
   "outputs": [
    {
     "name": "stdout",
     "output_type": "stream",
     "text": [
      "La media de los alumnos de la clase es: 1.6415\n",
      "La mediana es: 1.67\n"
     ]
    }
   ],
   "source": [
    "media = calcular_Media(muestra)\n",
    "print(f\"La media de los alumnos de la clase es: {media}\")\n",
    "mediana = encontrar_Mediana(muestra)\n",
    "print(f\"La mediana es: {mediana}\")"
   ]
  }
 ],
 "metadata": {
  "kernelspec": {
   "display_name": "Python 3",
   "language": "python",
   "name": "python3"
  },
  "language_info": {
   "codemirror_mode": {
    "name": "ipython",
    "version": 3
   },
   "file_extension": ".py",
   "mimetype": "text/x-python",
   "name": "python",
   "nbconvert_exporter": "python",
   "pygments_lexer": "ipython3",
   "version": "3.12.1"
  }
 },
 "nbformat": 4,
 "nbformat_minor": 2
}
