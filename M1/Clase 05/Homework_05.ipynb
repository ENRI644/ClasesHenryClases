{
 "cells": [
  {
   "cell_type": "markdown",
   "metadata": {},
   "source": [
    "# Práctica Clase 5"
   ]
  },
  {
   "cell_type": "markdown",
   "metadata": {},
   "source": [
    "1) Implementar un juego, que consista en apilar números enteros del 1 al 20, de forma aleatoria, para lo cual debe usarse una estructura de Pila. \n",
    "Luego, el usuario debe elegir un número de veces en que se va a quitar elementos de la pila, los cuales, sumados entre sí, no deben superar el valor de 50.\n",
    "El usuario pierde si la suma supera ese valor. Si no lo supera, gana, pero su calificación será 10 menos el número elementos que falten quitar para todavía no superar 50.\n",
    "El programa debe informar si perdió, y si ganó, con qué calificación lo hizo.\n",
    "\n",
    "Consideraciones:<br>\n",
    "a. Se puede usar la función input() para obtener una entrada de teclado.<br>\n",
    "b. Se puede usar la el modulo random para obtener valores aleatorios."
   ]
  },
  {
   "cell_type": "code",
   "execution_count": 1,
   "metadata": {},
   "outputs": [],
   "source": [
    "def Calculo_Puntuacion(pila:object,acuSuma:int) -> int:\n",
    "    puntuacion = 10\n",
    "    while(acuSuma<=50):\n",
    "        valoSiguiente = pila.peek()\n",
    "        if((acuSuma+valoSiguiente) <= 50):\n",
    "            puntuacion-=1\n",
    "        pila.pop()\n",
    "        acuSuma+=valoSiguiente\n",
    "    return puntuacion"
   ]
  },
  {
   "cell_type": "code",
   "execution_count": 2,
   "metadata": {},
   "outputs": [],
   "source": [
    "class Pila_Estructura:\n",
    "    def __init__(self) -> None:\n",
    "        self.__list= []\n",
    "    \n",
    "    def push(self, item):\n",
    "        self.__list.append(item)        # AÑADE UN ELEMENTO A LA POSICION -1 DE LA LISTA\n",
    "\n",
    "    \n",
    "    # Eliminar un elemento de una pila\n",
    "    def pop(self):\n",
    "        return self.__list.pop()        # ELIMINA EL ELEMENTO DE LA POSICION -1\n",
    "\n",
    "    # Obtener el elemento proximo a eliminar\n",
    "    def peek(self):\n",
    "        if self.__list == []:\n",
    "            return None\n",
    "        else:\n",
    "            return self.__list[-1]\n",
    "\n",
    "    # Determinar si la pila esta vacia\n",
    "    def is_empty(self):\n",
    "        if self.__list == []:\n",
    "            return True \n",
    "        else:\n",
    "            return False\n",
    "    \n",
    "    # Que cantidad de elementos tengo en mi pila\n",
    "    def size(self):\n",
    "        return len(self.__list)"
   ]
  },
  {
   "cell_type": "code",
   "execution_count": 5,
   "metadata": {},
   "outputs": [
    {
     "name": "stdout",
     "output_type": "stream",
     "text": [
      "[3, 4, 16, 5, 7, 14, 18, 19, 1, 17, 10, 20, 6, 2, 13, 15, 11, 12, 8, 9]\n"
     ]
    }
   ],
   "source": [
    "import random\n",
    "numes=[]                #creo una lista vacia\n",
    "pila = Pila_Estructura()#creo una pila\n",
    "cont = 19               #creo contador\n",
    "acu = 0\n",
    "\n",
    "for i in range(1,21):   #la itero para rellenarla \n",
    "    numes.append(i)     #con numeros del 1 al 20\n",
    "#print(numes)\n",
    "aux = []\n",
    "while(cont>=0):          #meto los numeros de manera aleatoria a la pila\n",
    "    alea = random.randint(0,cont)\n",
    "    pila.push(numes[alea])\n",
    "    aux.append(numes.pop(alea)) #CONTROL - BORRAR\n",
    "    #numes.pop(alea)     #lo saco de la lista, para que no se repitan\n",
    "    cont -= 1\n",
    "print(aux) #CONTROL - BORRAR\n"
   ]
  },
  {
   "cell_type": "code",
   "execution_count": 7,
   "metadata": {},
   "outputs": [
    {
     "name": "stdout",
     "output_type": "stream",
     "text": [
      "la suma da 15. No supera el valor de 50: USTED GANA.\n",
      "su puntuacion es de: 8 \n"
     ]
    }
   ],
   "source": [
    "#acu = 0 BORRAR:pruebas\n",
    "seleccion = int(input(\"INGRESE CUANTOS NUMEROS DESEA SELECCIONAR\"))\n",
    "for i in range(0,seleccion):\n",
    "    acu += pila.pop()\n",
    "if(acu > 50):\n",
    "    print(f\"su suma da {acu}. Supera el valor de 50: USTED PIERDE.\")\n",
    "else:\n",
    "    print(f\"la suma da {acu}. No supera el valor de 50: USTED GANA.\")\n",
    "    print(f\"su puntuacion es de: {Calculo_Puntuacion(pila,acu)} \")"
   ]
  },
  {
   "cell_type": "markdown",
   "metadata": {},
   "source": [
    "2) Implementar un juego donde constas de 2 jarras, de capacidad 5 y 3 litros respectivamente, y debes colocar 4 litros en la jarra de 5L.\n",
    "Las opciones posibles son:\n",
    "* Llenar la jarra de 3 litros\n",
    "* Llenar la jarra de 5 litros\n",
    "* Vaciar la jarra de 3 litros\n",
    "* Vaciar la jarra de 5 litros\n",
    "* Verter el contenido de la jarra de 3 litros en la de 5 litros\n",
    "* Verter el contenido de la jarra de 5 litros en la de 3 litros"
   ]
  },
  {
   "cell_type": "code",
   "execution_count": null,
   "metadata": {},
   "outputs": [],
   "source": []
  }
 ],
 "metadata": {
  "kernelspec": {
   "display_name": "Python 3.11.3 64-bit",
   "language": "python",
   "name": "python3"
  },
  "language_info": {
   "codemirror_mode": {
    "name": "ipython",
    "version": 3
   },
   "file_extension": ".py",
   "mimetype": "text/x-python",
   "name": "python",
   "nbconvert_exporter": "python",
   "pygments_lexer": "ipython3",
   "version": "3.12.1"
  },
  "vscode": {
   "interpreter": {
    "hash": "52634da84371cba311ea128a5ea7cdc41ff074b781779e754b270ff9f8153cee"
   }
  }
 },
 "nbformat": 4,
 "nbformat_minor": 4
}
