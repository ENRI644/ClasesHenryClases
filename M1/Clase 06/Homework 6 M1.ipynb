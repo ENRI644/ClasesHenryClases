{
 "cells": [
  {
   "cell_type": "markdown",
   "metadata": {},
   "source": [
    "# Práctica Clase 6"
   ]
  },
  {
   "cell_type": "markdown",
   "metadata": {},
   "source": [
    "1) Cargar el dataset \"Emisiones_CO2.csv\" provisto en la clase 2 en un Dataframe de Pandas, quitar los registros que contengan valores faltantes e implementar una nueva columna, que contenga el resultado de una función Hash aplicada sobre el campo \"Código de País\" y se denomine \"Clave_Hash\".<br>\n",
    "Consideraciones: Se puede utilizar la función provista.\n"
   ]
  },
  {
   "cell_type": "code",
   "execution_count": 1,
   "metadata": {},
   "outputs": [],
   "source": [
    "def hash_function(key):\n",
    "    return sum(index * ord(character) for index, character in enumerate(repr(key), start=1))"
   ]
  },
  {
   "cell_type": "code",
   "execution_count": 2,
   "metadata": {},
   "outputs": [
    {
     "name": "stdout",
     "output_type": "stream",
     "text": [
      "1807\n",
      "1799\n"
     ]
    }
   ],
   "source": [
    "print(hash_function('pato'))\n",
    "print(hash_function('tapo'))"
   ]
  },
  {
   "cell_type": "code",
   "execution_count": 7,
   "metadata": {},
   "outputs": [],
   "source": [
    "import pandas as pd"
   ]
  },
  {
   "cell_type": "code",
   "execution_count": 4,
   "metadata": {},
   "outputs": [
    {
     "name": "stdout",
     "output_type": "stream",
     "text": [
      "El DataFrame tiene datos nulos.\n"
     ]
    }
   ],
   "source": [
    "df = pd.read_csv('Emisiones_CO2.csv',sep='|',decimal=',', encoding='latin-1')\n",
    "if df.isnull().any().any():\n",
    "    print(\"El DataFrame tiene datos nulos.\")\n",
    "else:\n",
    "    print(\"El DataFrame no tiene datos nulos.\")"
   ]
  },
  {
   "cell_type": "code",
   "execution_count": 5,
   "metadata": {},
   "outputs": [
    {
     "name": "stdout",
     "output_type": "stream",
     "text": [
      "  Código de país  Clave_Hash Nombre del país                   Región   Año\n",
      "0            ABW         910           Aruba  América Latina y Caribe  1960\n",
      "1            ABW         910           Aruba  América Latina y Caribe  1961\n",
      "2            ABW         910           Aruba  América Latina y Caribe  1962\n",
      "3            ABW         910           Aruba  América Latina y Caribe  1963\n",
      "4            ABW         910           Aruba  América Latina y Caribe  1964\n",
      "El DataFrame no tiene datos nulos.\n"
     ]
    }
   ],
   "source": [
    "df = df.dropna(axis=\"columns\")\n",
    "aux=[]\n",
    "ListaCodPais = list(df[\"Código de país\"])\n",
    "#print(df.head())\n",
    "ListaCodPais\n",
    "for i in range(0,len(ListaCodPais)):\n",
    "    aux.append(hash_function(ListaCodPais[i]))\n",
    "df.insert(1,\"Clave_Hash\",aux) \n",
    "print(df.head())\n",
    "if df.isnull().any().any():\n",
    "    print(\"El DataFrame tiene datos nulos.\")\n",
    "else:\n",
    "    print(\"El DataFrame no tiene datos nulos.\")"
   ]
  },
  {
   "cell_type": "markdown",
   "metadata": {},
   "source": [
    "2. A partir del Dataframe creado en el punto 1, construir uno nuevo, que contenga solo los valores distintos de la tupla \"Clave_Hash\", \"Código de País\" , \"Nombre de país\" y \"Región\". Quitando luego del dataframe original los campos \"Código de País\" , \"Nombre de país\" y \"Región\""
   ]
  },
  {
   "cell_type": "code",
   "execution_count": 6,
   "metadata": {},
   "outputs": [
    {
     "name": "stdout",
     "output_type": "stream",
     "text": [
      "    Código de país  Clave_Hash Nombre del país                   Región   Año\n",
      "0              ABW         910           Aruba  América Latina y Caribe  1960\n",
      "52             AND         870         Andorra    Europa y Asia Central  1960\n",
      "104            AFG         858      Afganistán              Sur de Asia  1960\n",
      "156            AGO         893          Angola      África subsahariana  1960\n",
      "208            ALB         856         Albania    Europa y Asia Central  1960\n"
     ]
    }
   ],
   "source": [
    "df2 = df.drop_duplicates(\"Clave_Hash\")\n",
    "print(df2.head())"
   ]
  }
 ],
 "metadata": {
  "kernelspec": {
   "display_name": "Python 3.11.3 64-bit",
   "language": "python",
   "name": "python3"
  },
  "language_info": {
   "codemirror_mode": {
    "name": "ipython",
    "version": 3
   },
   "file_extension": ".py",
   "mimetype": "text/x-python",
   "name": "python",
   "nbconvert_exporter": "python",
   "pygments_lexer": "ipython3",
   "version": "3.12.1"
  },
  "vscode": {
   "interpreter": {
    "hash": "52634da84371cba311ea128a5ea7cdc41ff074b781779e754b270ff9f8153cee"
   }
  }
 },
 "nbformat": 4,
 "nbformat_minor": 4
}
