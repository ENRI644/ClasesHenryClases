{
 "cells": [
  {
   "cell_type": "code",
   "execution_count": 19,
   "metadata": {},
   "outputs": [],
   "source": [
    "import pandas as pd\n",
    "\n",
    "def Ret_Pregunta01():\n",
    "\n",
    "    df = pd.read_csv(r\"datasets\\Fuentes_Consumo_Energia.csv\")\n",
    "\n",
    "    return None"
   ]
  },
  {
   "cell_type": "code",
   "execution_count": 47,
   "metadata": {},
   "outputs": [
    {
     "name": "stdout",
     "output_type": "stream",
     "text": [
      "La cantidad de veces que aparece Colombia es: 55\n",
      "La cantidad de veces que aparece Mexico es: 55\n",
      "<class 'tuple'>\n"
     ]
    }
   ],
   "source": [
    "df = pd.read_csv(r\"datasets\\Fuentes_Consumo_Energia.csv\")\n",
    "#print(df.head())\n",
    "\n",
    "print(f\"La cantidad de veces que aparece Colombia es: {df[\"Entity\"].value_counts()[\"Colombia\"]}\")\n",
    "print(f\"La cantidad de veces que aparece Mexico es: {df[\"Entity\"].value_counts()[\"Mexico\"]}\")\n",
    "tupla = (df[\"Entity\"].value_counts()[\"Colombia\"],df[\"Entity\"].value_counts()[\"Mexico\"])\n",
    "print(type(tupla))"
   ]
  }
 ],
 "metadata": {
  "kernelspec": {
   "display_name": "Python 3",
   "language": "python",
   "name": "python3"
  },
  "language_info": {
   "codemirror_mode": {
    "name": "ipython",
    "version": 3
   },
   "file_extension": ".py",
   "mimetype": "text/x-python",
   "name": "python",
   "nbconvert_exporter": "python",
   "pygments_lexer": "ipython3",
   "version": "3.12.1"
  }
 },
 "nbformat": 4,
 "nbformat_minor": 2
}
